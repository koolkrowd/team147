{
 "cells": [
  {
   "cell_type": "markdown",
   "id": "a3e7008e",
   "metadata": {},
   "source": [
    "# Data Modeling\n",
    "# Submitted by Team 147\n",
    "## July 25, 2021"
   ]
  },
  {
   "cell_type": "markdown",
   "id": "4802c463",
   "metadata": {},
   "source": [
    "### Avery Fisher / Busayo Alagbe / James Gosserand / Tioluwanimi Olunowo"
   ]
  },
  {
   "cell_type": "markdown",
   "id": "86d0acb3",
   "metadata": {},
   "source": [
    "# Hypothesis"
   ]
  },
  {
   "cell_type": "markdown",
   "id": "50eea3f4",
   "metadata": {},
   "source": [
    "We seek to explore the negative impact of food deserts and food swamps on the health outcomes in African American communities. Our hypothesis is that this impact is significant. To test this hypothesis, we selected the rate of African Americans deaths due to cardiovascular diseases (the number one killer in this population group) as the dependent variable and seek to demonstrate that it could be predicted by the percentage of black people living in food deserts and food swamps within a county."
   ]
  },
  {
   "cell_type": "markdown",
   "id": "32b600e7",
   "metadata": {},
   "source": [
    "# Model Setup"
   ]
  },
  {
   "cell_type": "markdown",
   "id": "d34f666a",
   "metadata": {},
   "source": [
    "A linear regression model was selected to explore the expected relationship between the rate of African Americans deaths due to cardiovascular diseases and the percentage of black people living in food deserts and food swamps within a county."
   ]
  },
  {
   "cell_type": "markdown",
   "id": "0496c16d",
   "metadata": {},
   "source": [
    "## Libraries and Data Import"
   ]
  },
  {
   "cell_type": "code",
   "execution_count": 3,
   "id": "c60d7417",
   "metadata": {},
   "outputs": [],
   "source": [
    "import pandas as pd\n",
    "import numpy as np\n",
    "import matplotlib.pyplot as plt\n",
    "from scipy import stats\n",
    "import statsmodels.formula.api as smf"
   ]
  },
  {
   "cell_type": "code",
   "execution_count": 4,
   "id": "eda21c6c",
   "metadata": {},
   "outputs": [],
   "source": [
    "data = pd.read_csv('master.csv')"
   ]
  },
  {
   "cell_type": "markdown",
   "id": "ed4c2b71",
   "metadata": {},
   "source": [
    "## Data cleaning and conditioning"
   ]
  },
  {
   "cell_type": "markdown",
   "id": "4d8d7032",
   "metadata": {},
   "source": [
    "First, we view the top 5 rows to ensure the data load was successful."
   ]
  },
  {
   "cell_type": "code",
   "execution_count": 5,
   "id": "c11f1588",
   "metadata": {
    "scrolled": true
   },
   "outputs": [
    {
     "data": {
      "text/html": [
       "<div>\n",
       "<style scoped>\n",
       "    .dataframe tbody tr th:only-of-type {\n",
       "        vertical-align: middle;\n",
       "    }\n",
       "\n",
       "    .dataframe tbody tr th {\n",
       "        vertical-align: top;\n",
       "    }\n",
       "\n",
       "    .dataframe thead th {\n",
       "        text-align: right;\n",
       "    }\n",
       "</style>\n",
       "<table border=\"1\" class=\"dataframe\">\n",
       "  <thead>\n",
       "    <tr style=\"text-align: right;\">\n",
       "      <th></th>\n",
       "      <th>Unnamed: 0</th>\n",
       "      <th>No. of Fast-Food</th>\n",
       "      <th>No. Full-Service</th>\n",
       "      <th>No. Fast-Food per '000</th>\n",
       "      <th>No. Full-Service per '000</th>\n",
       "      <th>Avg. Expenditure Fast-Food</th>\n",
       "      <th>Avg. Expenditure Full-Service</th>\n",
       "      <th>No. Conviniece stores</th>\n",
       "      <th>No. Grocery store</th>\n",
       "      <th>No. Supercenter store</th>\n",
       "      <th>...</th>\n",
       "      <th>Hisp_Deaths</th>\n",
       "      <th>perc_AI_Alask201519</th>\n",
       "      <th>AI_Alask_Deaths</th>\n",
       "      <th>perc_Asia_PI201519</th>\n",
       "      <th>Asia_PI_Deaths</th>\n",
       "      <th>Obesity_2017</th>\n",
       "      <th>Diabetes_2017</th>\n",
       "      <th>HighChol_2017</th>\n",
       "      <th>Inactivity_2017</th>\n",
       "      <th>UrbanRural_2013</th>\n",
       "    </tr>\n",
       "  </thead>\n",
       "  <tbody>\n",
       "    <tr>\n",
       "      <th>0</th>\n",
       "      <td>0</td>\n",
       "      <td>44</td>\n",
       "      <td>31</td>\n",
       "      <td>0.795977</td>\n",
       "      <td>0.560802</td>\n",
       "      <td>674.80272</td>\n",
       "      <td>512.280987</td>\n",
       "      <td>31</td>\n",
       "      <td>3</td>\n",
       "      <td>1</td>\n",
       "      <td>...</td>\n",
       "      <td>NaN</td>\n",
       "      <td>0.2</td>\n",
       "      <td>NaN</td>\n",
       "      <td>1.0</td>\n",
       "      <td>NaN</td>\n",
       "      <td>32.7</td>\n",
       "      <td>11.4</td>\n",
       "      <td>37.0</td>\n",
       "      <td>30.2</td>\n",
       "      <td>3.0</td>\n",
       "    </tr>\n",
       "    <tr>\n",
       "      <th>1</th>\n",
       "      <td>1</td>\n",
       "      <td>156</td>\n",
       "      <td>236</td>\n",
       "      <td>0.751775</td>\n",
       "      <td>1.137300</td>\n",
       "      <td>674.80272</td>\n",
       "      <td>512.280987</td>\n",
       "      <td>118</td>\n",
       "      <td>29</td>\n",
       "      <td>7</td>\n",
       "      <td>...</td>\n",
       "      <td>NaN</td>\n",
       "      <td>0.6</td>\n",
       "      <td>NaN</td>\n",
       "      <td>0.9</td>\n",
       "      <td>NaN</td>\n",
       "      <td>30.1</td>\n",
       "      <td>8.2</td>\n",
       "      <td>40.1</td>\n",
       "      <td>23.5</td>\n",
       "      <td>3.0</td>\n",
       "    </tr>\n",
       "    <tr>\n",
       "      <th>2</th>\n",
       "      <td>2</td>\n",
       "      <td>23</td>\n",
       "      <td>14</td>\n",
       "      <td>0.892372</td>\n",
       "      <td>0.543183</td>\n",
       "      <td>674.80272</td>\n",
       "      <td>512.280987</td>\n",
       "      <td>19</td>\n",
       "      <td>4</td>\n",
       "      <td>1</td>\n",
       "      <td>...</td>\n",
       "      <td>NaN</td>\n",
       "      <td>0.2</td>\n",
       "      <td>NaN</td>\n",
       "      <td>0.4</td>\n",
       "      <td>NaN</td>\n",
       "      <td>41.2</td>\n",
       "      <td>15.1</td>\n",
       "      <td>41.1</td>\n",
       "      <td>26.7</td>\n",
       "      <td>4.0</td>\n",
       "    </tr>\n",
       "    <tr>\n",
       "      <th>3</th>\n",
       "      <td>3</td>\n",
       "      <td>7</td>\n",
       "      <td>7</td>\n",
       "      <td>0.309283</td>\n",
       "      <td>0.309283</td>\n",
       "      <td>674.80272</td>\n",
       "      <td>512.280987</td>\n",
       "      <td>15</td>\n",
       "      <td>5</td>\n",
       "      <td>1</td>\n",
       "      <td>...</td>\n",
       "      <td>NaN</td>\n",
       "      <td>0.1</td>\n",
       "      <td>NaN</td>\n",
       "      <td>0.1</td>\n",
       "      <td>NaN</td>\n",
       "      <td>37.4</td>\n",
       "      <td>12.2</td>\n",
       "      <td>38.5</td>\n",
       "      <td>33.1</td>\n",
       "      <td>2.0</td>\n",
       "    </tr>\n",
       "    <tr>\n",
       "      <th>4</th>\n",
       "      <td>4</td>\n",
       "      <td>23</td>\n",
       "      <td>12</td>\n",
       "      <td>0.399569</td>\n",
       "      <td>0.208471</td>\n",
       "      <td>674.80272</td>\n",
       "      <td>512.280987</td>\n",
       "      <td>27</td>\n",
       "      <td>5</td>\n",
       "      <td>1</td>\n",
       "      <td>...</td>\n",
       "      <td>NaN</td>\n",
       "      <td>0.0</td>\n",
       "      <td>NaN</td>\n",
       "      <td>0.4</td>\n",
       "      <td>NaN</td>\n",
       "      <td>32.5</td>\n",
       "      <td>12.2</td>\n",
       "      <td>40.8</td>\n",
       "      <td>32.6</td>\n",
       "      <td>2.0</td>\n",
       "    </tr>\n",
       "  </tbody>\n",
       "</table>\n",
       "<p>5 rows × 47 columns</p>\n",
       "</div>"
      ],
      "text/plain": [
       "   Unnamed: 0  No. of Fast-Food  No. Full-Service  No. Fast-Food per '000  \\\n",
       "0           0                44                31                0.795977   \n",
       "1           1               156               236                0.751775   \n",
       "2           2                23                14                0.892372   \n",
       "3           3                 7                 7                0.309283   \n",
       "4           4                23                12                0.399569   \n",
       "\n",
       "   No. Full-Service per '000  Avg. Expenditure Fast-Food  \\\n",
       "0                   0.560802                   674.80272   \n",
       "1                   1.137300                   674.80272   \n",
       "2                   0.543183                   674.80272   \n",
       "3                   0.309283                   674.80272   \n",
       "4                   0.208471                   674.80272   \n",
       "\n",
       "   Avg. Expenditure Full-Service  No. Conviniece stores  No. Grocery store  \\\n",
       "0                     512.280987                     31                  3   \n",
       "1                     512.280987                    118                 29   \n",
       "2                     512.280987                     19                  4   \n",
       "3                     512.280987                     15                  5   \n",
       "4                     512.280987                     27                  5   \n",
       "\n",
       "   No. Supercenter store  ...  Hisp_Deaths  perc_AI_Alask201519  \\\n",
       "0                      1  ...          NaN                  0.2   \n",
       "1                      7  ...          NaN                  0.6   \n",
       "2                      1  ...          NaN                  0.2   \n",
       "3                      1  ...          NaN                  0.1   \n",
       "4                      1  ...          NaN                  0.0   \n",
       "\n",
       "   AI_Alask_Deaths  perc_Asia_PI201519  Asia_PI_Deaths  Obesity_2017  \\\n",
       "0              NaN                 1.0             NaN          32.7   \n",
       "1              NaN                 0.9             NaN          30.1   \n",
       "2              NaN                 0.4             NaN          41.2   \n",
       "3              NaN                 0.1             NaN          37.4   \n",
       "4              NaN                 0.4             NaN          32.5   \n",
       "\n",
       "   Diabetes_2017  HighChol_2017  Inactivity_2017  UrbanRural_2013  \n",
       "0           11.4           37.0             30.2              3.0  \n",
       "1            8.2           40.1             23.5              3.0  \n",
       "2           15.1           41.1             26.7              4.0  \n",
       "3           12.2           38.5             33.1              2.0  \n",
       "4           12.2           40.8             32.6              2.0  \n",
       "\n",
       "[5 rows x 47 columns]"
      ]
     },
     "execution_count": 5,
     "metadata": {},
     "output_type": "execute_result"
    }
   ],
   "source": [
    "data.head()"
   ]
  },
  {
   "cell_type": "code",
   "execution_count": 6,
   "id": "58a8c8dd",
   "metadata": {},
   "outputs": [
    {
     "data": {
      "text/plain": [
       "147721"
      ]
     },
     "execution_count": 6,
     "metadata": {},
     "output_type": "execute_result"
    }
   ],
   "source": [
    "data.size"
   ]
  },
  {
   "cell_type": "markdown",
   "id": "9eccb2dd",
   "metadata": {},
   "source": [
    "In order to ensure that the model runs properly, we drop counties that have 0% black people"
   ]
  },
  {
   "cell_type": "code",
   "execution_count": 7,
   "id": "1900b2ce",
   "metadata": {},
   "outputs": [],
   "source": [
    "has_black_pop=data[data[\"perc_black\"]>0]"
   ]
  },
  {
   "cell_type": "code",
   "execution_count": 8,
   "id": "6fdfbdee",
   "metadata": {
    "scrolled": true
   },
   "outputs": [
    {
     "data": {
      "text/plain": [
       "count    2950.000000\n",
       "mean        9.478034\n",
       "std        14.759877\n",
       "min         0.100000\n",
       "25%         0.700000\n",
       "50%         2.500000\n",
       "75%        10.975000\n",
       "max        87.200000\n",
       "Name: perc_black, dtype: float64"
      ]
     },
     "execution_count": 8,
     "metadata": {},
     "output_type": "execute_result"
    }
   ],
   "source": [
    "has_black_pop[\"perc_black\"].describe()"
   ]
  },
  {
   "cell_type": "markdown",
   "id": "1a0be3cf",
   "metadata": {},
   "source": [
    "We then estimate the percentage of black people that live in a food desert within each county. Based on the CDC definition, food deserts are areas that are farther than 10 miles from a grocery store in an grocery area and one mile from a grocery store in an urban area. The column 'UrbanRural_2013' gives the degree of 'urbanness' of a county with 1 being fully metropolitan and 4 being non-metropolitan. Using the food access and the 'UrbanRural_2013' information, we are then able to estimate the percentage of black people as shown below: "
   ]
  },
  {
   "cell_type": "code",
   "execution_count": 9,
   "id": "82276818",
   "metadata": {},
   "outputs": [
    {
     "data": {
      "text/plain": [
       "array([3., 4., 2., 1.])"
      ]
     },
     "execution_count": 9,
     "metadata": {},
     "output_type": "execute_result"
    }
   ],
   "source": [
    "has_black_pop[\"UrbanRural_2013\"].unique()"
   ]
  },
  {
   "cell_type": "code",
   "execution_count": 10,
   "id": "f71bfb94",
   "metadata": {},
   "outputs": [],
   "source": [
    "#Creates column for percentage of black people in food desert\n",
    "def get_percentage(row,cutoff):\n",
    "    if row[\"UrbanRural_2013\"]<cutoff:\n",
    "        value=row[\"lablack1\"] / (row[\"Total_Population\"] * row[\"perc_black\"]*.01)\n",
    "    else:\n",
    "        value=row[\"lablack10\"] / (row[\"Total_Population\"] * row[\"perc_black\"]*.01)\n",
    "    return value"
   ]
  },
  {
   "cell_type": "code",
   "execution_count": 11,
   "id": "6658aa04",
   "metadata": {
    "scrolled": true
   },
   "outputs": [
    {
     "name": "stderr",
     "output_type": "stream",
     "text": [
      "<ipython-input-11-838dc6b98c8d>:1: SettingWithCopyWarning: \n",
      "A value is trying to be set on a copy of a slice from a DataFrame.\n",
      "Try using .loc[row_indexer,col_indexer] = value instead\n",
      "\n",
      "See the caveats in the documentation: https://pandas.pydata.org/pandas-docs/stable/user_guide/indexing.html#returning-a-view-versus-a-copy\n",
      "  has_black_pop[\"food_desert_percentage\"]=has_black_pop.apply(lambda row: get_percentage(row,3.5), axis=1)\n"
     ]
    }
   ],
   "source": [
    "has_black_pop[\"food_desert_percentage\"]=has_black_pop.apply(lambda row: get_percentage(row,3.5), axis=1)"
   ]
  },
  {
   "cell_type": "code",
   "execution_count": 12,
   "id": "902e7503",
   "metadata": {
    "scrolled": true
   },
   "outputs": [
    {
     "data": {
      "text/html": [
       "<div>\n",
       "<style scoped>\n",
       "    .dataframe tbody tr th:only-of-type {\n",
       "        vertical-align: middle;\n",
       "    }\n",
       "\n",
       "    .dataframe tbody tr th {\n",
       "        vertical-align: top;\n",
       "    }\n",
       "\n",
       "    .dataframe thead th {\n",
       "        text-align: right;\n",
       "    }\n",
       "</style>\n",
       "<table border=\"1\" class=\"dataframe\">\n",
       "  <thead>\n",
       "    <tr style=\"text-align: right;\">\n",
       "      <th></th>\n",
       "      <th>Unnamed: 0</th>\n",
       "      <th>No. of Fast-Food</th>\n",
       "      <th>No. Full-Service</th>\n",
       "      <th>No. Fast-Food per '000</th>\n",
       "      <th>No. Full-Service per '000</th>\n",
       "      <th>Avg. Expenditure Fast-Food</th>\n",
       "      <th>Avg. Expenditure Full-Service</th>\n",
       "      <th>No. Conviniece stores</th>\n",
       "      <th>No. Grocery store</th>\n",
       "      <th>No. Supercenter store</th>\n",
       "      <th>...</th>\n",
       "      <th>perc_AI_Alask201519</th>\n",
       "      <th>AI_Alask_Deaths</th>\n",
       "      <th>perc_Asia_PI201519</th>\n",
       "      <th>Asia_PI_Deaths</th>\n",
       "      <th>Obesity_2017</th>\n",
       "      <th>Diabetes_2017</th>\n",
       "      <th>HighChol_2017</th>\n",
       "      <th>Inactivity_2017</th>\n",
       "      <th>UrbanRural_2013</th>\n",
       "      <th>food_desert_percentage</th>\n",
       "    </tr>\n",
       "  </thead>\n",
       "  <tbody>\n",
       "    <tr>\n",
       "      <th>3136</th>\n",
       "      <td>3136</td>\n",
       "      <td>23</td>\n",
       "      <td>32</td>\n",
       "      <td>0.765416</td>\n",
       "      <td>1.064927</td>\n",
       "      <td>598.027144</td>\n",
       "      <td>706.676425</td>\n",
       "      <td>13</td>\n",
       "      <td>8</td>\n",
       "      <td>1</td>\n",
       "      <td>...</td>\n",
       "      <td>1.7</td>\n",
       "      <td>NaN</td>\n",
       "      <td>0.6</td>\n",
       "      <td>NaN</td>\n",
       "      <td>28.9</td>\n",
       "      <td>6.8</td>\n",
       "      <td>35.1</td>\n",
       "      <td>20.9</td>\n",
       "      <td>4.0</td>\n",
       "      <td>0.049768</td>\n",
       "    </tr>\n",
       "    <tr>\n",
       "      <th>3138</th>\n",
       "      <td>3138</td>\n",
       "      <td>31</td>\n",
       "      <td>32</td>\n",
       "      <td>0.700644</td>\n",
       "      <td>0.723246</td>\n",
       "      <td>598.027144</td>\n",
       "      <td>706.676425</td>\n",
       "      <td>22</td>\n",
       "      <td>4</td>\n",
       "      <td>1</td>\n",
       "      <td>...</td>\n",
       "      <td>1.0</td>\n",
       "      <td>NaN</td>\n",
       "      <td>0.7</td>\n",
       "      <td>NaN</td>\n",
       "      <td>30.1</td>\n",
       "      <td>8.0</td>\n",
       "      <td>30.4</td>\n",
       "      <td>24.1</td>\n",
       "      <td>4.0</td>\n",
       "      <td>0.029244</td>\n",
       "    </tr>\n",
       "    <tr>\n",
       "      <th>3139</th>\n",
       "      <td>3139</td>\n",
       "      <td>20</td>\n",
       "      <td>59</td>\n",
       "      <td>0.862813</td>\n",
       "      <td>2.545298</td>\n",
       "      <td>598.027144</td>\n",
       "      <td>706.676425</td>\n",
       "      <td>19</td>\n",
       "      <td>11</td>\n",
       "      <td>0</td>\n",
       "      <td>...</td>\n",
       "      <td>0.3</td>\n",
       "      <td>NaN</td>\n",
       "      <td>1.3</td>\n",
       "      <td>NaN</td>\n",
       "      <td>11.0</td>\n",
       "      <td>2.2</td>\n",
       "      <td>28.7</td>\n",
       "      <td>10.7</td>\n",
       "      <td>4.0</td>\n",
       "      <td>0.009706</td>\n",
       "    </tr>\n",
       "    <tr>\n",
       "      <th>3140</th>\n",
       "      <td>3140</td>\n",
       "      <td>17</td>\n",
       "      <td>19</td>\n",
       "      <td>0.820820</td>\n",
       "      <td>0.917387</td>\n",
       "      <td>598.027144</td>\n",
       "      <td>706.676425</td>\n",
       "      <td>13</td>\n",
       "      <td>2</td>\n",
       "      <td>1</td>\n",
       "      <td>...</td>\n",
       "      <td>0.6</td>\n",
       "      <td>NaN</td>\n",
       "      <td>0.1</td>\n",
       "      <td>NaN</td>\n",
       "      <td>34.9</td>\n",
       "      <td>9.5</td>\n",
       "      <td>33.8</td>\n",
       "      <td>24.5</td>\n",
       "      <td>4.0</td>\n",
       "      <td>0.000000</td>\n",
       "    </tr>\n",
       "    <tr>\n",
       "      <th>3142</th>\n",
       "      <td>3142</td>\n",
       "      <td>4</td>\n",
       "      <td>10</td>\n",
       "      <td>0.555710</td>\n",
       "      <td>1.389275</td>\n",
       "      <td>598.027144</td>\n",
       "      <td>706.676425</td>\n",
       "      <td>4</td>\n",
       "      <td>4</td>\n",
       "      <td>0</td>\n",
       "      <td>...</td>\n",
       "      <td>0.1</td>\n",
       "      <td>NaN</td>\n",
       "      <td>0.8</td>\n",
       "      <td>NaN</td>\n",
       "      <td>36.8</td>\n",
       "      <td>9.2</td>\n",
       "      <td>36.3</td>\n",
       "      <td>24.0</td>\n",
       "      <td>4.0</td>\n",
       "      <td>0.000000</td>\n",
       "    </tr>\n",
       "  </tbody>\n",
       "</table>\n",
       "<p>5 rows × 48 columns</p>\n",
       "</div>"
      ],
      "text/plain": [
       "      Unnamed: 0  No. of Fast-Food  No. Full-Service  No. Fast-Food per '000  \\\n",
       "3136        3136                23                32                0.765416   \n",
       "3138        3138                31                32                0.700644   \n",
       "3139        3139                20                59                0.862813   \n",
       "3140        3140                17                19                0.820820   \n",
       "3142        3142                 4                10                0.555710   \n",
       "\n",
       "      No. Full-Service per '000  Avg. Expenditure Fast-Food  \\\n",
       "3136                   1.064927                  598.027144   \n",
       "3138                   0.723246                  598.027144   \n",
       "3139                   2.545298                  598.027144   \n",
       "3140                   0.917387                  598.027144   \n",
       "3142                   1.389275                  598.027144   \n",
       "\n",
       "      Avg. Expenditure Full-Service  No. Conviniece stores  No. Grocery store  \\\n",
       "3136                     706.676425                     13                  8   \n",
       "3138                     706.676425                     22                  4   \n",
       "3139                     706.676425                     19                 11   \n",
       "3140                     706.676425                     13                  2   \n",
       "3142                     706.676425                      4                  4   \n",
       "\n",
       "      No. Supercenter store  ...  perc_AI_Alask201519  AI_Alask_Deaths  \\\n",
       "3136                      1  ...                  1.7              NaN   \n",
       "3138                      1  ...                  1.0              NaN   \n",
       "3139                      0  ...                  0.3              NaN   \n",
       "3140                      1  ...                  0.6              NaN   \n",
       "3142                      0  ...                  0.1              NaN   \n",
       "\n",
       "      perc_Asia_PI201519  Asia_PI_Deaths  Obesity_2017  Diabetes_2017  \\\n",
       "3136                 0.6             NaN          28.9            6.8   \n",
       "3138                 0.7             NaN          30.1            8.0   \n",
       "3139                 1.3             NaN          11.0            2.2   \n",
       "3140                 0.1             NaN          34.9            9.5   \n",
       "3142                 0.8             NaN          36.8            9.2   \n",
       "\n",
       "      HighChol_2017  Inactivity_2017  UrbanRural_2013  food_desert_percentage  \n",
       "3136           35.1             20.9              4.0                0.049768  \n",
       "3138           30.4             24.1              4.0                0.029244  \n",
       "3139           28.7             10.7              4.0                0.009706  \n",
       "3140           33.8             24.5              4.0                0.000000  \n",
       "3142           36.3             24.0              4.0                0.000000  \n",
       "\n",
       "[5 rows x 48 columns]"
      ]
     },
     "execution_count": 12,
     "metadata": {},
     "output_type": "execute_result"
    }
   ],
   "source": [
    "has_black_pop.tail()"
   ]
  },
  {
   "cell_type": "markdown",
   "id": "d52cb819",
   "metadata": {},
   "source": [
    "Next, we drop all the rows with NAs in our response variable column"
   ]
  },
  {
   "cell_type": "code",
   "execution_count": 13,
   "id": "bf32dc74",
   "metadata": {},
   "outputs": [],
   "source": [
    "filtered=has_black_pop.dropna(subset=['Black_Deaths'])"
   ]
  },
  {
   "cell_type": "markdown",
   "id": "28184045",
   "metadata": {},
   "source": [
    "Next we added some features to the data for easier computation."
   ]
  },
  {
   "cell_type": "code",
   "execution_count": 15,
   "id": "fbdfcd01",
   "metadata": {
    "scrolled": true
   },
   "outputs": [
    {
     "name": "stderr",
     "output_type": "stream",
     "text": [
      "<ipython-input-15-87db3d7f3d79>:1: SettingWithCopyWarning: \n",
      "A value is trying to be set on a copy of a slice from a DataFrame.\n",
      "Try using .loc[row_indexer,col_indexer] = value instead\n",
      "\n",
      "See the caveats in the documentation: https://pandas.pydata.org/pandas-docs/stable/user_guide/indexing.html#returning-a-view-versus-a-copy\n",
      "  filtered[\"fast_food_percent\"]=filtered[\"No. Fast-Food per \\'000\"]\n"
     ]
    }
   ],
   "source": [
    "filtered[\"fast_food_percent\"]=filtered[\"No. Fast-Food per \\'000\"]"
   ]
  },
  {
   "cell_type": "code",
   "execution_count": 16,
   "id": "86d9763d",
   "metadata": {
    "scrolled": false
   },
   "outputs": [
    {
     "name": "stderr",
     "output_type": "stream",
     "text": [
      "<ipython-input-16-cbfc0c74f422>:1: SettingWithCopyWarning: \n",
      "A value is trying to be set on a copy of a slice from a DataFrame.\n",
      "Try using .loc[row_indexer,col_indexer] = value instead\n",
      "\n",
      "See the caveats in the documentation: https://pandas.pydata.org/pandas-docs/stable/user_guide/indexing.html#returning-a-view-versus-a-copy\n",
      "  filtered[\"full_service_percent\"]=filtered[\"No. Full-Service per \\'000\"]\n"
     ]
    }
   ],
   "source": [
    "filtered[\"full_service_percent\"]=filtered[\"No. Full-Service per \\'000\"]"
   ]
  },
  {
   "cell_type": "code",
   "execution_count": 17,
   "id": "26ae10e8",
   "metadata": {
    "scrolled": false
   },
   "outputs": [
    {
     "name": "stderr",
     "output_type": "stream",
     "text": [
      "<ipython-input-17-65090aba3663>:1: SettingWithCopyWarning: \n",
      "A value is trying to be set on a copy of a slice from a DataFrame.\n",
      "Try using .loc[row_indexer,col_indexer] = value instead\n",
      "\n",
      "See the caveats in the documentation: https://pandas.pydata.org/pandas-docs/stable/user_guide/indexing.html#returning-a-view-versus-a-copy\n",
      "  filtered[\"median_household_income\"]=filtered[\"Median Household Income\"]\n"
     ]
    }
   ],
   "source": [
    "filtered[\"median_household_income\"]=filtered[\"Median Household Income\"]"
   ]
  },
  {
   "cell_type": "code",
   "execution_count": 18,
   "id": "5bb6aa29",
   "metadata": {
    "scrolled": false
   },
   "outputs": [
    {
     "name": "stderr",
     "output_type": "stream",
     "text": [
      "<ipython-input-18-0a9cb82a4ee8>:1: SettingWithCopyWarning: \n",
      "A value is trying to be set on a copy of a slice from a DataFrame.\n",
      "Try using .loc[row_indexer,col_indexer] = value instead\n",
      "\n",
      "See the caveats in the documentation: https://pandas.pydata.org/pandas-docs/stable/user_guide/indexing.html#returning-a-view-versus-a-copy\n",
      "  filtered['poverty_rate']=filtered[\"% Poverty rate\"]\n"
     ]
    }
   ],
   "source": [
    "filtered['poverty_rate']=filtered[\"% Poverty rate\"]"
   ]
  },
  {
   "cell_type": "code",
   "execution_count": 19,
   "id": "33748cea",
   "metadata": {
    "scrolled": true
   },
   "outputs": [
    {
     "name": "stderr",
     "output_type": "stream",
     "text": [
      "<ipython-input-19-9c09817654e6>:1: SettingWithCopyWarning: \n",
      "A value is trying to be set on a copy of a slice from a DataFrame.\n",
      "Try using .loc[row_indexer,col_indexer] = value instead\n",
      "\n",
      "See the caveats in the documentation: https://pandas.pydata.org/pandas-docs/stable/user_guide/indexing.html#returning-a-view-versus-a-copy\n",
      "  filtered[\"TractSNAP_percent\"]=filtered[\"TractSNAP\"]/filtered[\"Total_Population\"]\n",
      "<ipython-input-19-9c09817654e6>:2: SettingWithCopyWarning: \n",
      "A value is trying to be set on a copy of a slice from a DataFrame.\n",
      "Try using .loc[row_indexer,col_indexer] = value instead\n",
      "\n",
      "See the caveats in the documentation: https://pandas.pydata.org/pandas-docs/stable/user_guide/indexing.html#returning-a-view-versus-a-copy\n",
      "  filtered[\"TractLOWI_percent\"]=filtered[\"TractLOWI\"]/filtered[\"Total_Population\"]\n"
     ]
    }
   ],
   "source": [
    "filtered[\"TractSNAP_percent\"]=filtered[\"TractSNAP\"]/filtered[\"Total_Population\"]\n",
    "filtered[\"TractLOWI_percent\"]=filtered[\"TractLOWI\"]/filtered[\"Total_Population\"]"
   ]
  },
  {
   "cell_type": "code",
   "execution_count": 20,
   "id": "77ac5b5b",
   "metadata": {
    "scrolled": false
   },
   "outputs": [
    {
     "data": {
      "text/html": [
       "<div>\n",
       "<style scoped>\n",
       "    .dataframe tbody tr th:only-of-type {\n",
       "        vertical-align: middle;\n",
       "    }\n",
       "\n",
       "    .dataframe tbody tr th {\n",
       "        vertical-align: top;\n",
       "    }\n",
       "\n",
       "    .dataframe thead th {\n",
       "        text-align: right;\n",
       "    }\n",
       "</style>\n",
       "<table border=\"1\" class=\"dataframe\">\n",
       "  <thead>\n",
       "    <tr style=\"text-align: right;\">\n",
       "      <th></th>\n",
       "      <th>Unnamed: 0</th>\n",
       "      <th>No. of Fast-Food</th>\n",
       "      <th>No. Full-Service</th>\n",
       "      <th>No. Fast-Food per '000</th>\n",
       "      <th>No. Full-Service per '000</th>\n",
       "      <th>Avg. Expenditure Fast-Food</th>\n",
       "      <th>Avg. Expenditure Full-Service</th>\n",
       "      <th>No. Conviniece stores</th>\n",
       "      <th>No. Grocery store</th>\n",
       "      <th>No. Supercenter store</th>\n",
       "      <th>...</th>\n",
       "      <th>HighChol_2017</th>\n",
       "      <th>Inactivity_2017</th>\n",
       "      <th>UrbanRural_2013</th>\n",
       "      <th>food_desert_percentage</th>\n",
       "      <th>fast_food_percent</th>\n",
       "      <th>full_service_percent</th>\n",
       "      <th>median_household_income</th>\n",
       "      <th>poverty_rate</th>\n",
       "      <th>TractSNAP_percent</th>\n",
       "      <th>TractLOWI_percent</th>\n",
       "    </tr>\n",
       "  </thead>\n",
       "  <tbody>\n",
       "    <tr>\n",
       "      <th>0</th>\n",
       "      <td>0</td>\n",
       "      <td>44</td>\n",
       "      <td>31</td>\n",
       "      <td>0.795977</td>\n",
       "      <td>0.560802</td>\n",
       "      <td>674.80272</td>\n",
       "      <td>512.280987</td>\n",
       "      <td>31</td>\n",
       "      <td>3</td>\n",
       "      <td>1</td>\n",
       "      <td>...</td>\n",
       "      <td>37.0</td>\n",
       "      <td>30.2</td>\n",
       "      <td>3.0</td>\n",
       "      <td>0.631537</td>\n",
       "      <td>0.795977</td>\n",
       "      <td>0.560802</td>\n",
       "      <td>56580.0</td>\n",
       "      <td>12.7</td>\n",
       "      <td>0.048429</td>\n",
       "      <td>0.337523</td>\n",
       "    </tr>\n",
       "    <tr>\n",
       "      <th>1</th>\n",
       "      <td>1</td>\n",
       "      <td>156</td>\n",
       "      <td>236</td>\n",
       "      <td>0.751775</td>\n",
       "      <td>1.137300</td>\n",
       "      <td>674.80272</td>\n",
       "      <td>512.280987</td>\n",
       "      <td>118</td>\n",
       "      <td>29</td>\n",
       "      <td>7</td>\n",
       "      <td>...</td>\n",
       "      <td>40.1</td>\n",
       "      <td>23.5</td>\n",
       "      <td>3.0</td>\n",
       "      <td>0.552965</td>\n",
       "      <td>0.751775</td>\n",
       "      <td>1.137300</td>\n",
       "      <td>52387.0</td>\n",
       "      <td>12.9</td>\n",
       "      <td>0.030405</td>\n",
       "      <td>0.297312</td>\n",
       "    </tr>\n",
       "    <tr>\n",
       "      <th>2</th>\n",
       "      <td>2</td>\n",
       "      <td>23</td>\n",
       "      <td>14</td>\n",
       "      <td>0.892372</td>\n",
       "      <td>0.543183</td>\n",
       "      <td>674.80272</td>\n",
       "      <td>512.280987</td>\n",
       "      <td>19</td>\n",
       "      <td>4</td>\n",
       "      <td>1</td>\n",
       "      <td>...</td>\n",
       "      <td>41.1</td>\n",
       "      <td>26.7</td>\n",
       "      <td>4.0</td>\n",
       "      <td>0.212374</td>\n",
       "      <td>0.892372</td>\n",
       "      <td>0.543183</td>\n",
       "      <td>31433.0</td>\n",
       "      <td>32.0</td>\n",
       "      <td>0.082686</td>\n",
       "      <td>0.492252</td>\n",
       "    </tr>\n",
       "    <tr>\n",
       "      <th>3</th>\n",
       "      <td>3</td>\n",
       "      <td>7</td>\n",
       "      <td>7</td>\n",
       "      <td>0.309283</td>\n",
       "      <td>0.309283</td>\n",
       "      <td>674.80272</td>\n",
       "      <td>512.280987</td>\n",
       "      <td>15</td>\n",
       "      <td>5</td>\n",
       "      <td>1</td>\n",
       "      <td>...</td>\n",
       "      <td>38.5</td>\n",
       "      <td>33.1</td>\n",
       "      <td>2.0</td>\n",
       "      <td>0.759587</td>\n",
       "      <td>0.309283</td>\n",
       "      <td>0.309283</td>\n",
       "      <td>40767.0</td>\n",
       "      <td>22.2</td>\n",
       "      <td>0.050016</td>\n",
       "      <td>0.450051</td>\n",
       "    </tr>\n",
       "    <tr>\n",
       "      <th>5</th>\n",
       "      <td>5</td>\n",
       "      <td>3</td>\n",
       "      <td>1</td>\n",
       "      <td>0.287329</td>\n",
       "      <td>0.095776</td>\n",
       "      <td>674.80272</td>\n",
       "      <td>512.280987</td>\n",
       "      <td>6</td>\n",
       "      <td>3</td>\n",
       "      <td>0</td>\n",
       "      <td>...</td>\n",
       "      <td>39.2</td>\n",
       "      <td>42.3</td>\n",
       "      <td>4.0</td>\n",
       "      <td>0.208638</td>\n",
       "      <td>0.287329</td>\n",
       "      <td>0.095776</td>\n",
       "      <td>28251.0</td>\n",
       "      <td>39.6</td>\n",
       "      <td>0.077479</td>\n",
       "      <td>0.515125</td>\n",
       "    </tr>\n",
       "  </tbody>\n",
       "</table>\n",
       "<p>5 rows × 54 columns</p>\n",
       "</div>"
      ],
      "text/plain": [
       "   Unnamed: 0  No. of Fast-Food  No. Full-Service  No. Fast-Food per '000  \\\n",
       "0           0                44                31                0.795977   \n",
       "1           1               156               236                0.751775   \n",
       "2           2                23                14                0.892372   \n",
       "3           3                 7                 7                0.309283   \n",
       "5           5                 3                 1                0.287329   \n",
       "\n",
       "   No. Full-Service per '000  Avg. Expenditure Fast-Food  \\\n",
       "0                   0.560802                   674.80272   \n",
       "1                   1.137300                   674.80272   \n",
       "2                   0.543183                   674.80272   \n",
       "3                   0.309283                   674.80272   \n",
       "5                   0.095776                   674.80272   \n",
       "\n",
       "   Avg. Expenditure Full-Service  No. Conviniece stores  No. Grocery store  \\\n",
       "0                     512.280987                     31                  3   \n",
       "1                     512.280987                    118                 29   \n",
       "2                     512.280987                     19                  4   \n",
       "3                     512.280987                     15                  5   \n",
       "5                     512.280987                      6                  3   \n",
       "\n",
       "   No. Supercenter store  ...  HighChol_2017  Inactivity_2017  \\\n",
       "0                      1  ...           37.0             30.2   \n",
       "1                      7  ...           40.1             23.5   \n",
       "2                      1  ...           41.1             26.7   \n",
       "3                      1  ...           38.5             33.1   \n",
       "5                      0  ...           39.2             42.3   \n",
       "\n",
       "   UrbanRural_2013  food_desert_percentage  fast_food_percent  \\\n",
       "0              3.0                0.631537           0.795977   \n",
       "1              3.0                0.552965           0.751775   \n",
       "2              4.0                0.212374           0.892372   \n",
       "3              2.0                0.759587           0.309283   \n",
       "5              4.0                0.208638           0.287329   \n",
       "\n",
       "   full_service_percent  median_household_income  poverty_rate  \\\n",
       "0              0.560802                  56580.0          12.7   \n",
       "1              1.137300                  52387.0          12.9   \n",
       "2              0.543183                  31433.0          32.0   \n",
       "3              0.309283                  40767.0          22.2   \n",
       "5              0.095776                  28251.0          39.6   \n",
       "\n",
       "   TractSNAP_percent  TractLOWI_percent  \n",
       "0           0.048429           0.337523  \n",
       "1           0.030405           0.297312  \n",
       "2           0.082686           0.492252  \n",
       "3           0.050016           0.450051  \n",
       "5           0.077479           0.515125  \n",
       "\n",
       "[5 rows x 54 columns]"
      ]
     },
     "execution_count": 20,
     "metadata": {},
     "output_type": "execute_result"
    }
   ],
   "source": [
    "filtered.head()"
   ]
  },
  {
   "cell_type": "markdown",
   "id": "e2eadba5",
   "metadata": {},
   "source": [
    "## Initial Data Exploration and Modeling"
   ]
  },
  {
   "cell_type": "markdown",
   "id": "38d96f75",
   "metadata": {},
   "source": [
    "First, we inspect the columns of interest and perform a visual inspection of the crossplot between both variables."
   ]
  },
  {
   "cell_type": "code",
   "execution_count": 21,
   "id": "c16abab5",
   "metadata": {
    "scrolled": true
   },
   "outputs": [
    {
     "data": {
      "text/plain": [
       "count    1118.000000\n",
       "mean      317.952147\n",
       "std        84.472060\n",
       "min       104.500000\n",
       "25%       261.250000\n",
       "50%       309.100000\n",
       "75%       363.875000\n",
       "max       817.700000\n",
       "Name: Black_Deaths, dtype: float64"
      ]
     },
     "execution_count": 21,
     "metadata": {},
     "output_type": "execute_result"
    }
   ],
   "source": [
    "filtered[\"Black_Deaths\"].describe()"
   ]
  },
  {
   "cell_type": "code",
   "execution_count": 22,
   "id": "7fc1783a",
   "metadata": {},
   "outputs": [
    {
     "data": {
      "text/plain": [
       "count    1118.000000\n",
       "mean        0.292380\n",
       "std         0.271141\n",
       "min         0.000000\n",
       "25%         0.046728\n",
       "50%         0.237207\n",
       "75%         0.453282\n",
       "max         1.318425\n",
       "Name: food_desert_percentage, dtype: float64"
      ]
     },
     "execution_count": 22,
     "metadata": {},
     "output_type": "execute_result"
    }
   ],
   "source": [
    "filtered[\"food_desert_percentage\"].describe()"
   ]
  },
  {
   "cell_type": "code",
   "execution_count": 23,
   "id": "544c59d1",
   "metadata": {
    "scrolled": true
   },
   "outputs": [
    {
     "data": {
      "text/plain": [
       "(1118, 54)"
      ]
     },
     "execution_count": 23,
     "metadata": {},
     "output_type": "execute_result"
    }
   ],
   "source": [
    "filtered.shape"
   ]
  },
  {
   "cell_type": "code",
   "execution_count": 26,
   "id": "984ebe19",
   "metadata": {},
   "outputs": [
    {
     "data": {
      "text/plain": [
       "0       0.631537\n",
       "1       0.552965\n",
       "2       0.212374\n",
       "3       0.759587\n",
       "5       0.208638\n",
       "          ...   \n",
       "3060    0.305100\n",
       "3077    0.166255\n",
       "3088    0.068551\n",
       "3099    0.315468\n",
       "3101    0.370699\n",
       "Name: food_desert_percentage, Length: 1118, dtype: float64"
      ]
     },
     "execution_count": 26,
     "metadata": {},
     "output_type": "execute_result"
    }
   ],
   "source": [
    "filtered[\"food_desert_percentage\"].replace(0,0.00001)"
   ]
  },
  {
   "cell_type": "code",
   "execution_count": 29,
   "id": "b0e3c9ba",
   "metadata": {
    "scrolled": true
   },
   "outputs": [
    {
     "data": {
      "text/plain": [
       "False"
      ]
     },
     "execution_count": 29,
     "metadata": {},
     "output_type": "execute_result"
    }
   ],
   "source": [
    "filtered[\"Black_Deaths\"].isnull().values.any()"
   ]
  },
  {
   "cell_type": "code",
   "execution_count": 30,
   "id": "94a322dc",
   "metadata": {},
   "outputs": [
    {
     "data": {
      "text/plain": [
       "False"
      ]
     },
     "execution_count": 30,
     "metadata": {},
     "output_type": "execute_result"
    }
   ],
   "source": [
    "filtered[\"food_desert_percentage\"].isnull().values.any()"
   ]
  },
  {
   "cell_type": "code",
   "execution_count": 31,
   "id": "973cc408",
   "metadata": {},
   "outputs": [
    {
     "data": {
      "text/plain": [
       "count    1118.000000\n",
       "mean        0.292381\n",
       "std         0.271141\n",
       "min         0.000007\n",
       "25%         0.046728\n",
       "50%         0.237207\n",
       "75%         0.453282\n",
       "max         1.318425\n",
       "Name: food_desert_percentage, dtype: float64"
      ]
     },
     "execution_count": 31,
     "metadata": {},
     "output_type": "execute_result"
    }
   ],
   "source": [
    "filtered[\"food_desert_percentage\"].describe()"
   ]
  },
  {
   "cell_type": "code",
   "execution_count": 32,
   "id": "e6c29e8c",
   "metadata": {
    "scrolled": true
   },
   "outputs": [
    {
     "data": {
      "text/plain": [
       "[]"
      ]
     },
     "execution_count": 32,
     "metadata": {},
     "output_type": "execute_result"
    },
    {
     "data": {
      "image/png": "[encoded data removed]",
      "text/plain": [
       "<Figure size 432x288 with 1 Axes>"
      ]
     },
     "metadata": {
      "needs_background": "light"
     },
     "output_type": "display_data"
    }
   ],
   "source": [
    "x=filtered[\"food_desert_percentage\"]\n",
    "y=filtered['Black_Deaths']\n",
    "plt.scatter(x, y)\n",
    "plt.plot()"
   ]
  },
  {
   "cell_type": "markdown",
   "id": "bf985b4d",
   "metadata": {},
   "source": [
    "Next, we explore the distribution of the response variable (rate of African Americans deaths due to cardiovascular diseases) and primary independent variable (\"food_desert_percentage\") using the Qaurtile-Quartile (QQ) plot."
   ]
  },
  {
   "cell_type": "code",
   "execution_count": 33,
   "id": "1ae06bc0",
   "metadata": {
    "scrolled": false
   },
   "outputs": [
    {
     "data": {
      "image/png": "[encoded data removed]",
      "text/plain": [
       "<Figure size 432x288 with 1 Axes>"
      ]
     },
     "metadata": {
      "needs_background": "light"
     },
     "output_type": "display_data"
    }
   ],
   "source": [
    "#checking dependent variable for normality\n",
    "stats.probplot(x=filtered['Black_Deaths'], dist=\"norm\", plot=plt)\n",
    "plt.title(\"QQ Plot for Black deaths per 100k\")\n",
    "plt.show()"
   ]
  },
  {
   "cell_type": "code",
   "execution_count": 34,
   "id": "190452fc",
   "metadata": {
    "scrolled": true
   },
   "outputs": [
    {
     "data": {
      "image/png": "[encoded data removed]",
      "text/plain": [
       "<Figure size 432x288 with 1 Axes>"
      ]
     },
     "metadata": {
      "needs_background": "light"
     },
     "output_type": "display_data"
    }
   ],
   "source": [
    "#checking prediction variable for normality\n",
    "stats.probplot(x=filtered['food_desert_percentage'], dist=\"norm\", plot=plt)\n",
    "plt.title(\"QQ Plot for food_desert_percentage per 100k\")\n",
    "plt.show()"
   ]
  },
  {
   "cell_type": "markdown",
   "id": "0a62b1dc",
   "metadata": {},
   "source": [
    "The deviation of the points from the straight line indicates that the distributions deviates from a normal distribution.\n",
    "\n",
    "A box-cox criterion was then used to assess the non-linearity of the variables and to determine the appropraite transform to use for modeling."
   ]
  },
  {
   "cell_type": "code",
   "execution_count": 35,
   "id": "ac233dd4",
   "metadata": {},
   "outputs": [
    {
     "data": {
      "text/plain": [
       "0.11720885515093821"
      ]
     },
     "execution_count": 35,
     "metadata": {},
     "output_type": "execute_result"
    }
   ],
   "source": [
    "#checking dependent variable\n",
    "transformed_outcomes, lamda_outcomes =stats.boxcox(filtered['Black_Deaths'])\n",
    "lamda_outcomes"
   ]
  },
  {
   "cell_type": "code",
   "execution_count": 36,
   "id": "d4d5a3d3",
   "metadata": {},
   "outputs": [
    {
     "data": {
      "text/plain": [
       "0.3406791993167708"
      ]
     },
     "execution_count": 36,
     "metadata": {},
     "output_type": "execute_result"
    }
   ],
   "source": [
    "#checking prediction variable\n",
    "transformed_outcomes2, lamda_outcomes2 =stats.boxcox(filtered['food_desert_percentage'])\n",
    "lamda_outcomes2"
   ]
  },
  {
   "cell_type": "markdown",
   "id": "54a293c8",
   "metadata": {},
   "source": [
    "Based on the box-cox criterion, transforming both variables to log form will be beneficial for the model. Hence the linear regression model was defined as below:"
   ]
  },
  {
   "cell_type": "code",
   "execution_count": 52,
   "id": "8a80459b",
   "metadata": {
    "scrolled": true
   },
   "outputs": [],
   "source": [
    "#Single variable model. Couldnt use log on the food desert, I think because there are some values that are 0\n",
    "model = smf.ols(formula='np.log(Black_Deaths) ~ np.log(food_desert_percentage)', data=filtered).fit()"
   ]
  },
  {
   "cell_type": "code",
   "execution_count": 53,
   "id": "f70c6a1d",
   "metadata": {
    "scrolled": false
   },
   "outputs": [
    {
     "data": {
      "text/html": [
       "<table class=\"simpletable\">\n",
       "<caption>OLS Regression Results</caption>\n",
       "<tr>\n",
       "  <th>Dep. Variable:</th>    <td>np.log(Black_Deaths)</td> <th>  R-squared:         </th> <td>   0.039</td>\n",
       "</tr>\n",
       "<tr>\n",
       "  <th>Model:</th>                     <td>OLS</td>         <th>  Adj. R-squared:    </th> <td>   0.038</td>\n",
       "</tr>\n",
       "<tr>\n",
       "  <th>Method:</th>               <td>Least Squares</td>    <th>  F-statistic:       </th> <td>   45.72</td>\n",
       "</tr>\n",
       "<tr>\n",
       "  <th>Date:</th>               <td>Mon, 26 Jul 2021</td>   <th>  Prob (F-statistic):</th> <td>2.20e-11</td>\n",
       "</tr>\n",
       "<tr>\n",
       "  <th>Time:</th>                   <td>03:12:59</td>       <th>  Log-Likelihood:    </th> <td> -61.805</td>\n",
       "</tr>\n",
       "<tr>\n",
       "  <th>No. Observations:</th>        <td>  1118</td>        <th>  AIC:               </th> <td>   127.6</td>\n",
       "</tr>\n",
       "<tr>\n",
       "  <th>Df Residuals:</th>            <td>  1116</td>        <th>  BIC:               </th> <td>   137.6</td>\n",
       "</tr>\n",
       "<tr>\n",
       "  <th>Df Model:</th>                <td>     1</td>        <th>                     </th>     <td> </td>   \n",
       "</tr>\n",
       "<tr>\n",
       "  <th>Covariance Type:</th>        <td>nonrobust</td>      <th>                     </th>     <td> </td>   \n",
       "</tr>\n",
       "</table>\n",
       "<table class=\"simpletable\">\n",
       "<tr>\n",
       "                 <td></td>                   <th>coef</th>     <th>std err</th>      <th>t</th>      <th>P>|t|</th>  <th>[0.025</th>    <th>0.975]</th>  \n",
       "</tr>\n",
       "<tr>\n",
       "  <th>Intercept</th>                      <td>    5.6804</td> <td>    0.010</td> <td>  545.708</td> <td> 0.000</td> <td>    5.660</td> <td>    5.701</td>\n",
       "</tr>\n",
       "<tr>\n",
       "  <th>np.log(food_desert_percentage)</th> <td>   -0.0196</td> <td>    0.003</td> <td>   -6.762</td> <td> 0.000</td> <td>   -0.025</td> <td>   -0.014</td>\n",
       "</tr>\n",
       "</table>\n",
       "<table class=\"simpletable\">\n",
       "<tr>\n",
       "  <th>Omnibus:</th>       <td>23.475</td> <th>  Durbin-Watson:     </th> <td>   1.493</td>\n",
       "</tr>\n",
       "<tr>\n",
       "  <th>Prob(Omnibus):</th> <td> 0.000</td> <th>  Jarque-Bera (JB):  </th> <td>  36.981</td>\n",
       "</tr>\n",
       "<tr>\n",
       "  <th>Skew:</th>          <td>-0.179</td> <th>  Prob(JB):          </th> <td>9.32e-09</td>\n",
       "</tr>\n",
       "<tr>\n",
       "  <th>Kurtosis:</th>      <td> 3.816</td> <th>  Cond. No.          </th> <td>    5.05</td>\n",
       "</tr>\n",
       "</table><br/><br/>Notes:<br/>[1] Standard Errors assume that the covariance matrix of the errors is correctly specified."
      ],
      "text/plain": [
       "<class 'statsmodels.iolib.summary.Summary'>\n",
       "\"\"\"\n",
       "                             OLS Regression Results                             \n",
       "================================================================================\n",
       "Dep. Variable:     np.log(Black_Deaths)   R-squared:                       0.039\n",
       "Model:                              OLS   Adj. R-squared:                  0.038\n",
       "Method:                   Least Squares   F-statistic:                     45.72\n",
       "Date:                  Mon, 26 Jul 2021   Prob (F-statistic):           2.20e-11\n",
       "Time:                          03:12:59   Log-Likelihood:                -61.805\n",
       "No. Observations:                  1118   AIC:                             127.6\n",
       "Df Residuals:                      1116   BIC:                             137.6\n",
       "Df Model:                             1                                         \n",
       "Covariance Type:              nonrobust                                         \n",
       "==================================================================================================\n",
       "                                     coef    std err          t      P>|t|      [0.025      0.975]\n",
       "--------------------------------------------------------------------------------------------------\n",
       "Intercept                          5.6804      0.010    545.708      0.000       5.660       5.701\n",
       "np.log(food_desert_percentage)    -0.0196      0.003     -6.762      0.000      -0.025      -0.014\n",
       "==============================================================================\n",
       "Omnibus:                       23.475   Durbin-Watson:                   1.493\n",
       "Prob(Omnibus):                  0.000   Jarque-Bera (JB):               36.981\n",
       "Skew:                          -0.179   Prob(JB):                     9.32e-09\n",
       "Kurtosis:                       3.816   Cond. No.                         5.05\n",
       "==============================================================================\n",
       "\n",
       "Notes:\n",
       "[1] Standard Errors assume that the covariance matrix of the errors is correctly specified.\n",
       "\"\"\""
      ]
     },
     "execution_count": 53,
     "metadata": {},
     "output_type": "execute_result"
    }
   ],
   "source": [
    "model.summary()"
   ]
  },
  {
   "cell_type": "markdown",
   "id": "114663a0",
   "metadata": {},
   "source": [
    "The model has a R-squared value of .039. Although we didn’t expect food deserts to predict all of the deaths due to cardiovascular diseasse, this R-squared value was smaller than we had expected."
   ]
  },
  {
   "cell_type": "markdown",
   "id": "eb85059b",
   "metadata": {},
   "source": [
    "## Data exploration and inclusion of additional predictors"
   ]
  },
  {
   "cell_type": "markdown",
   "id": "6b0a6623",
   "metadata": {},
   "source": [
    "Based on the results from all the previous model, we decided to include additional prediction variables to help with improving the model accuracy. We estimated that additional variables probably had a large impact, especially poverty rate and average household income, since they are indicators of socioeconomic status, which we expected to have a large impact on health outcomes.\n",
    "\n",
    "The cells below show how we explored the relationship between these additional variables and the response variable in addition to the model performance after including these in the model."
   ]
  },
  {
   "cell_type": "code",
   "execution_count": null,
   "id": "68f444a6",
   "metadata": {},
   "outputs": [],
   "source": [
    "#Inspecting different inputs to see if there are transformations that could make this better"
   ]
  },
  {
   "cell_type": "code",
   "execution_count": 39,
   "id": "b679d37e",
   "metadata": {
    "scrolled": true
   },
   "outputs": [
    {
     "data": {
      "text/plain": [
       "[]"
      ]
     },
     "execution_count": 39,
     "metadata": {},
     "output_type": "execute_result"
    },
    {
     "data": {
      "image/png": "[encoded data removed]",
      "text/plain": [
       "<Figure size 432x288 with 1 Axes>"
      ]
     },
     "metadata": {
      "needs_background": "light"
     },
     "output_type": "display_data"
    }
   ],
   "source": [
    "x=filtered[\"fast_food_percent\"]\n",
    "y=filtered['Black_Deaths']\n",
    "plt.scatter(x, y)\n",
    "plt.plot()"
   ]
  },
  {
   "cell_type": "code",
   "execution_count": 40,
   "id": "290a73e2",
   "metadata": {
    "scrolled": true
   },
   "outputs": [
    {
     "data": {
      "text/plain": [
       "[]"
      ]
     },
     "execution_count": 40,
     "metadata": {},
     "output_type": "execute_result"
    },
    {
     "data": {
      "image/png": "[encoded data removed]",
      "text/plain": [
       "<Figure size 432x288 with 1 Axes>"
      ]
     },
     "metadata": {
      "needs_background": "light"
     },
     "output_type": "display_data"
    }
   ],
   "source": [
    "x=filtered[\"median_household_income\"]\n",
    "y=filtered['Black_Deaths']\n",
    "plt.scatter(x, y)\n",
    "plt.plot()"
   ]
  },
  {
   "cell_type": "code",
   "execution_count": 41,
   "id": "a777781f",
   "metadata": {},
   "outputs": [
    {
     "data": {
      "text/plain": [
       "[]"
      ]
     },
     "execution_count": 41,
     "metadata": {},
     "output_type": "execute_result"
    },
    {
     "data": {
      "image/png": "[encoded data removed]",
      "text/plain": [
       "<Figure size 432x288 with 1 Axes>"
      ]
     },
     "metadata": {
      "needs_background": "light"
     },
     "output_type": "display_data"
    }
   ],
   "source": [
    "x=filtered[\"poverty_rate\"]\n",
    "y=filtered['Black_Deaths']\n",
    "plt.scatter(x, y)\n",
    "plt.plot()"
   ]
  },
  {
   "cell_type": "code",
   "execution_count": 42,
   "id": "3c075a1b",
   "metadata": {
    "scrolled": true
   },
   "outputs": [
    {
     "data": {
      "text/plain": [
       "[]"
      ]
     },
     "execution_count": 42,
     "metadata": {},
     "output_type": "execute_result"
    },
    {
     "data": {
      "image/png": "[encoded data removed]",
      "text/plain": [
       "<Figure size 432x288 with 1 Axes>"
      ]
     },
     "metadata": {
      "needs_background": "light"
     },
     "output_type": "display_data"
    }
   ],
   "source": [
    "x=filtered[\"TractSNAP_percent\"]\n",
    "y=filtered['Black_Deaths']\n",
    "plt.scatter(x, y)\n",
    "plt.plot()"
   ]
  },
  {
   "cell_type": "code",
   "execution_count": 43,
   "id": "82274b2a",
   "metadata": {
    "scrolled": false
   },
   "outputs": [
    {
     "data": {
      "text/plain": [
       "[]"
      ]
     },
     "execution_count": 43,
     "metadata": {},
     "output_type": "execute_result"
    },
    {
     "data": {
      "image/png": "[encoded data removed]",
      "text/plain": [
       "<Figure size 432x288 with 1 Axes>"
      ]
     },
     "metadata": {
      "needs_background": "light"
     },
     "output_type": "display_data"
    }
   ],
   "source": [
    "x=filtered[\"TractLOWI_percent\"]\n",
    "y=filtered['Black_Deaths']\n",
    "plt.scatter(x, y)\n",
    "plt.plot()"
   ]
  },
  {
   "cell_type": "code",
   "execution_count": 44,
   "id": "ebfb0510",
   "metadata": {
    "scrolled": true
   },
   "outputs": [
    {
     "data": {
      "text/plain": [
       "[]"
      ]
     },
     "execution_count": 44,
     "metadata": {},
     "output_type": "execute_result"
    },
    {
     "data": {
      "image/png": "[encoded data removed]",
      "text/plain": [
       "<Figure size 432x288 with 1 Axes>"
      ]
     },
     "metadata": {
      "needs_background": "light"
     },
     "output_type": "display_data"
    }
   ],
   "source": [
    "x=filtered[\"Obesity_2017\"]\n",
    "y=filtered['Black_Deaths']\n",
    "plt.scatter(x, y)\n",
    "plt.plot()"
   ]
  },
  {
   "cell_type": "code",
   "execution_count": 45,
   "id": "7f2a1b72",
   "metadata": {
    "scrolled": true
   },
   "outputs": [
    {
     "data": {
      "text/plain": [
       "[]"
      ]
     },
     "execution_count": 45,
     "metadata": {},
     "output_type": "execute_result"
    },
    {
     "data": {
      "image/png": "[encoded data removed]",
      "text/plain": [
       "<Figure size 432x288 with 1 Axes>"
      ]
     },
     "metadata": {
      "needs_background": "light"
     },
     "output_type": "display_data"
    }
   ],
   "source": [
    "x=filtered[\"Diabetes_2017\"]\n",
    "y=filtered['Black_Deaths']\n",
    "plt.scatter(x, y)\n",
    "plt.plot()"
   ]
  },
  {
   "cell_type": "code",
   "execution_count": 48,
   "id": "d1b084c9",
   "metadata": {},
   "outputs": [],
   "source": [
    "#Trying a model with everything\n",
    "model = smf.ols(formula='np.log(Black_Deaths) ~ food_desert_percentage + fast_food_percent + full_service_percent + median_household_income + poverty_rate + TractSNAP_percent + TractLOWI_percent + urban_pop + Total_Population + perc_black + perc_white + Obesity_2017 + Diabetes_2017 + HighChol_2017 + Inactivity_2017', data=filtered).fit()"
   ]
  },
  {
   "cell_type": "code",
   "execution_count": 49,
   "id": "1d4d7e15",
   "metadata": {
    "scrolled": true
   },
   "outputs": [
    {
     "data": {
      "text/html": [
       "<table class=\"simpletable\">\n",
       "<caption>OLS Regression Results</caption>\n",
       "<tr>\n",
       "  <th>Dep. Variable:</th>    <td>np.log(Black_Deaths)</td> <th>  R-squared:         </th> <td>   0.352</td>\n",
       "</tr>\n",
       "<tr>\n",
       "  <th>Model:</th>                     <td>OLS</td>         <th>  Adj. R-squared:    </th> <td>   0.343</td>\n",
       "</tr>\n",
       "<tr>\n",
       "  <th>Method:</th>               <td>Least Squares</td>    <th>  F-statistic:       </th> <td>   39.84</td>\n",
       "</tr>\n",
       "<tr>\n",
       "  <th>Date:</th>               <td>Mon, 26 Jul 2021</td>   <th>  Prob (F-statistic):</th> <td>8.80e-93</td>\n",
       "</tr>\n",
       "<tr>\n",
       "  <th>Time:</th>                   <td>03:09:43</td>       <th>  Log-Likelihood:    </th> <td>  157.95</td>\n",
       "</tr>\n",
       "<tr>\n",
       "  <th>No. Observations:</th>        <td>  1118</td>        <th>  AIC:               </th> <td>  -283.9</td>\n",
       "</tr>\n",
       "<tr>\n",
       "  <th>Df Residuals:</th>            <td>  1102</td>        <th>  BIC:               </th> <td>  -203.6</td>\n",
       "</tr>\n",
       "<tr>\n",
       "  <th>Df Model:</th>                <td>    15</td>        <th>                     </th>     <td> </td>   \n",
       "</tr>\n",
       "<tr>\n",
       "  <th>Covariance Type:</th>        <td>nonrobust</td>      <th>                     </th>     <td> </td>   \n",
       "</tr>\n",
       "</table>\n",
       "<table class=\"simpletable\">\n",
       "<tr>\n",
       "             <td></td>                <th>coef</th>     <th>std err</th>      <th>t</th>      <th>P>|t|</th>  <th>[0.025</th>    <th>0.975]</th>  \n",
       "</tr>\n",
       "<tr>\n",
       "  <th>Intercept</th>               <td>    5.1297</td> <td>    0.170</td> <td>   30.125</td> <td> 0.000</td> <td>    4.796</td> <td>    5.464</td>\n",
       "</tr>\n",
       "<tr>\n",
       "  <th>food_desert_percentage</th>  <td>   -0.0590</td> <td>    0.026</td> <td>   -2.311</td> <td> 0.021</td> <td>   -0.109</td> <td>   -0.009</td>\n",
       "</tr>\n",
       "<tr>\n",
       "  <th>fast_food_percent</th>       <td>    0.1295</td> <td>    0.038</td> <td>    3.406</td> <td> 0.001</td> <td>    0.055</td> <td>    0.204</td>\n",
       "</tr>\n",
       "<tr>\n",
       "  <th>full_service_percent</th>    <td>   -0.0137</td> <td>    0.027</td> <td>   -0.500</td> <td> 0.617</td> <td>   -0.067</td> <td>    0.040</td>\n",
       "</tr>\n",
       "<tr>\n",
       "  <th>median_household_income</th> <td>-4.347e-06</td> <td> 1.11e-06</td> <td>   -3.908</td> <td> 0.000</td> <td>-6.53e-06</td> <td>-2.16e-06</td>\n",
       "</tr>\n",
       "<tr>\n",
       "  <th>poverty_rate</th>            <td>    0.0070</td> <td>    0.002</td> <td>    2.823</td> <td> 0.005</td> <td>    0.002</td> <td>    0.012</td>\n",
       "</tr>\n",
       "<tr>\n",
       "  <th>TractSNAP_percent</th>       <td>   -1.0906</td> <td>    0.502</td> <td>   -2.175</td> <td> 0.030</td> <td>   -2.075</td> <td>   -0.107</td>\n",
       "</tr>\n",
       "<tr>\n",
       "  <th>TractLOWI_percent</th>       <td>    0.3429</td> <td>    0.165</td> <td>    2.079</td> <td> 0.038</td> <td>    0.019</td> <td>    0.667</td>\n",
       "</tr>\n",
       "<tr>\n",
       "  <th>urban_pop</th>               <td>-6.538e-08</td> <td> 7.55e-08</td> <td>   -0.866</td> <td> 0.386</td> <td>-2.13e-07</td> <td> 8.27e-08</td>\n",
       "</tr>\n",
       "<tr>\n",
       "  <th>Total_Population</th>        <td> 5.003e-08</td> <td> 7.31e-08</td> <td>    0.684</td> <td> 0.494</td> <td>-9.34e-08</td> <td> 1.93e-07</td>\n",
       "</tr>\n",
       "<tr>\n",
       "  <th>perc_black</th>              <td>   -0.0024</td> <td>    0.001</td> <td>   -3.358</td> <td> 0.001</td> <td>   -0.004</td> <td>   -0.001</td>\n",
       "</tr>\n",
       "<tr>\n",
       "  <th>perc_white</th>              <td>    0.0003</td> <td>    0.001</td> <td>    0.412</td> <td> 0.680</td> <td>   -0.001</td> <td>    0.002</td>\n",
       "</tr>\n",
       "<tr>\n",
       "  <th>Obesity_2017</th>            <td>    0.0054</td> <td>    0.002</td> <td>    3.540</td> <td> 0.000</td> <td>    0.002</td> <td>    0.008</td>\n",
       "</tr>\n",
       "<tr>\n",
       "  <th>Diabetes_2017</th>           <td>   -0.0025</td> <td>    0.002</td> <td>   -1.011</td> <td> 0.312</td> <td>   -0.007</td> <td>    0.002</td>\n",
       "</tr>\n",
       "<tr>\n",
       "  <th>HighChol_2017</th>           <td>    0.0082</td> <td>    0.003</td> <td>    2.903</td> <td> 0.004</td> <td>    0.003</td> <td>    0.014</td>\n",
       "</tr>\n",
       "<tr>\n",
       "  <th>Inactivity_2017</th>         <td>    0.0049</td> <td>    0.002</td> <td>    3.211</td> <td> 0.001</td> <td>    0.002</td> <td>    0.008</td>\n",
       "</tr>\n",
       "</table>\n",
       "<table class=\"simpletable\">\n",
       "<tr>\n",
       "  <th>Omnibus:</th>       <td>44.759</td> <th>  Durbin-Watson:     </th> <td>   1.748</td>\n",
       "</tr>\n",
       "<tr>\n",
       "  <th>Prob(Omnibus):</th> <td> 0.000</td> <th>  Jarque-Bera (JB):  </th> <td> 125.446</td>\n",
       "</tr>\n",
       "<tr>\n",
       "  <th>Skew:</th>          <td>-0.074</td> <th>  Prob(JB):          </th> <td>5.75e-28</td>\n",
       "</tr>\n",
       "<tr>\n",
       "  <th>Kurtosis:</th>      <td> 4.634</td> <th>  Cond. No.          </th> <td>5.55e+07</td>\n",
       "</tr>\n",
       "</table><br/><br/>Notes:<br/>[1] Standard Errors assume that the covariance matrix of the errors is correctly specified.<br/>[2] The condition number is large, 5.55e+07. This might indicate that there are<br/>strong multicollinearity or other numerical problems."
      ],
      "text/plain": [
       "<class 'statsmodels.iolib.summary.Summary'>\n",
       "\"\"\"\n",
       "                             OLS Regression Results                             \n",
       "================================================================================\n",
       "Dep. Variable:     np.log(Black_Deaths)   R-squared:                       0.352\n",
       "Model:                              OLS   Adj. R-squared:                  0.343\n",
       "Method:                   Least Squares   F-statistic:                     39.84\n",
       "Date:                  Mon, 26 Jul 2021   Prob (F-statistic):           8.80e-93\n",
       "Time:                          03:09:43   Log-Likelihood:                 157.95\n",
       "No. Observations:                  1118   AIC:                            -283.9\n",
       "Df Residuals:                      1102   BIC:                            -203.6\n",
       "Df Model:                            15                                         \n",
       "Covariance Type:              nonrobust                                         \n",
       "===========================================================================================\n",
       "                              coef    std err          t      P>|t|      [0.025      0.975]\n",
       "-------------------------------------------------------------------------------------------\n",
       "Intercept                   5.1297      0.170     30.125      0.000       4.796       5.464\n",
       "food_desert_percentage     -0.0590      0.026     -2.311      0.021      -0.109      -0.009\n",
       "fast_food_percent           0.1295      0.038      3.406      0.001       0.055       0.204\n",
       "full_service_percent       -0.0137      0.027     -0.500      0.617      -0.067       0.040\n",
       "median_household_income -4.347e-06   1.11e-06     -3.908      0.000   -6.53e-06   -2.16e-06\n",
       "poverty_rate                0.0070      0.002      2.823      0.005       0.002       0.012\n",
       "TractSNAP_percent          -1.0906      0.502     -2.175      0.030      -2.075      -0.107\n",
       "TractLOWI_percent           0.3429      0.165      2.079      0.038       0.019       0.667\n",
       "urban_pop               -6.538e-08   7.55e-08     -0.866      0.386   -2.13e-07    8.27e-08\n",
       "Total_Population         5.003e-08   7.31e-08      0.684      0.494   -9.34e-08    1.93e-07\n",
       "perc_black                 -0.0024      0.001     -3.358      0.001      -0.004      -0.001\n",
       "perc_white                  0.0003      0.001      0.412      0.680      -0.001       0.002\n",
       "Obesity_2017                0.0054      0.002      3.540      0.000       0.002       0.008\n",
       "Diabetes_2017              -0.0025      0.002     -1.011      0.312      -0.007       0.002\n",
       "HighChol_2017               0.0082      0.003      2.903      0.004       0.003       0.014\n",
       "Inactivity_2017             0.0049      0.002      3.211      0.001       0.002       0.008\n",
       "==============================================================================\n",
       "Omnibus:                       44.759   Durbin-Watson:                   1.748\n",
       "Prob(Omnibus):                  0.000   Jarque-Bera (JB):              125.446\n",
       "Skew:                          -0.074   Prob(JB):                     5.75e-28\n",
       "Kurtosis:                       4.634   Cond. No.                     5.55e+07\n",
       "==============================================================================\n",
       "\n",
       "Notes:\n",
       "[1] Standard Errors assume that the covariance matrix of the errors is correctly specified.\n",
       "[2] The condition number is large, 5.55e+07. This might indicate that there are\n",
       "strong multicollinearity or other numerical problems.\n",
       "\"\"\""
      ]
     },
     "execution_count": 49,
     "metadata": {},
     "output_type": "execute_result"
    }
   ],
   "source": [
    "model.summary()"
   ]
  },
  {
   "cell_type": "markdown",
   "id": "beeff33e",
   "metadata": {},
   "source": [
    "The model has now improved to a R-squared value of .352. This was a significant improvement over our single variable prediction model, but still isn’t nearly high enough for us to be confident that our model has strong predicting power."
   ]
  },
  {
   "cell_type": "markdown",
   "id": "c0ad55b9",
   "metadata": {},
   "source": [
    "## Next Steps"
   ]
  },
  {
   "cell_type": "markdown",
   "id": "cdf1e62a",
   "metadata": {},
   "source": [
    "We intend to carry out the following next steps in the coming weeks to improve our predictive model:\n",
    "\n",
    "    - Investigate interraction effects between prediction variables\n",
    "    - Investigate using another model type instead of a simple regression model"
   ]
  }
 ],
 "metadata": {
  "kernelspec": {
   "display_name": "Python 3",
   "language": "python",
   "name": "python3"
  },
  "language_info": {
   "codemirror_mode": {
    "name": "ipython",
    "version": 3
   },
   "file_extension": ".py",
   "mimetype": "text/x-python",
   "name": "python",
   "nbconvert_exporter": "python",
   "pygments_lexer": "ipython3",
   "version": "3.8.8"
  },
  "varInspector": {
   "cols": {
    "lenName": 16,
    "lenType": 16,
    "lenVar": 40
   },
   "kernels_config": {
    "python": {
     "delete_cmd_postfix": "",
     "delete_cmd_prefix": "del ",
     "library": "var_list.py",
     "varRefreshCmd": "print(var_dic_list())"
    },
    "r": {
     "delete_cmd_postfix": ") ",
     "delete_cmd_prefix": "rm(",
     "library": "var_list.r",
     "varRefreshCmd": "cat(var_dic_list()) "
    }
   },
   "types_to_exclude": [
    "module",
    "function",
    "builtin_function_or_method",
    "instance",
    "_Feature"
   ],
   "window_display": false
  }
 },
 "nbformat": 4,
 "nbformat_minor": 5
}
